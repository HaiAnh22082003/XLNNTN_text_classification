{
 "cells": [
  {
   "cell_type": "code",
   "execution_count": 10,
   "metadata": {},
   "outputs": [
    {
     "name": "stdout",
     "output_type": "stream",
     "text": [
      "Các đối tượng đã được nạp thành công!\n"
     ]
    }
   ],
   "source": [
    "import joblib\n",
    "import re\n",
    "import underthesea\n",
    "\n",
    "# Nạp lại mô hình đã lưu (tfidf_vectorizer, MultiNB, encoder)\n",
    "tfidf_vectorizer, MultiNB, encoder = joblib.load('model.joblib')\n",
    "\n",
    "print(\"Các đối tượng đã được nạp thành công!\")\n"
   ]
  },
  {
   "cell_type": "code",
   "execution_count": 11,
   "metadata": {},
   "outputs": [],
   "source": [
    "def lower_tokenize(text):\n",
    "    text = text.lower()\n",
    "    text = re.sub(r'[^\\w\\s]', '', text)\n",
    "    text = re.sub(r'\\d+', '', text)\n",
    "    tokens = underthesea.word_tokenize(text)\n",
    "    # print(\"Lower\",tokens)\n",
    "    return tokens"
   ]
  },
  {
   "cell_type": "code",
   "execution_count": 12,
   "metadata": {},
   "outputs": [],
   "source": [
    "def remove_stopword(tokens):\n",
    "    with open(\"vietnamese-stopwords.txt\",\"r\",encoding=\"utf-8\") as file:\n",
    "        stopwords = file.readlines()\n",
    "    stopwords = [word.strip() for word in stopwords]\n",
    "    final_tokens = [token for token in tokens if token not in stopwords]\n",
    "    final_text = ' '.join(final_tokens)\n",
    "    # print(\"Stopword\",final_text)\n",
    "    return final_text"
   ]
  },
  {
   "cell_type": "code",
   "execution_count": 13,
   "metadata": {},
   "outputs": [],
   "source": [
    "# Dữ liệu kiểm thử mới\n",
    "new_data = [\n",
    "    \"Tôi thích học Toán\",\n",
    "    \"VIệt Nam ra sân thắng Lào với tỉ số 10-0\",\n",
    "    \"Bạo lực học đường là vấn đề được quan tâm nhất hiện nay\",\n",
    "    \"Xe Ariblade 165CC có ngoại hình siêu đẹp\"\n",
    "]\n",
    "\n",
    "# Tiền xử lý dữ liệu kiểm thử\n",
    "new_data = [lower_tokenize(text) for text in new_data]\n",
    "new_data = [remove_stopword(tokens) for tokens in new_data]\n"
   ]
  },
  {
   "cell_type": "code",
   "execution_count": 14,
   "metadata": {},
   "outputs": [],
   "source": [
    "# Chuyển đổi dữ liệu kiểm thử mới thành đặc trưng TF-IDF\n",
    "new_data_tfidf = tfidf_vectorizer.transform(new_data)\n"
   ]
  },
  {
   "cell_type": "code",
   "execution_count": 15,
   "metadata": {},
   "outputs": [
    {
     "name": "stdout",
     "output_type": "stream",
     "text": [
      "Nội dung: học toán\n",
      "Dự đoán danh mục: Giáo dục\n",
      "----------------------------------------\n",
      "Nội dung: việt nam sân thắng lào tỉ số\n",
      "Dự đoán danh mục: Thể thao\n",
      "----------------------------------------\n",
      "Nội dung: bạo lực học đường\n",
      "Dự đoán danh mục: Giáo dục\n",
      "----------------------------------------\n",
      "Nội dung: xe ariblade cc ngoại hình siêu đẹp\n",
      "Dự đoán danh mục: Xe\n",
      "----------------------------------------\n"
     ]
    }
   ],
   "source": [
    "# Dự đoán nhãn với dữ liệu kiểm thử mới\n",
    "new_predictions = MultiNB.predict(new_data_tfidf)\n",
    "\n",
    "# Chuyển đổi nhãn dự đoán về dạng ban đầu (labels)\n",
    "new_predictions_labels = encoder.inverse_transform(new_predictions)\n",
    "\n",
    "# In ra các dự đoán\n",
    "for i, text in enumerate(new_data):\n",
    "    print(f\"Nội dung: {text}\")\n",
    "    print(f\"Dự đoán danh mục: {new_predictions_labels[i]}\")\n",
    "    print(\"-\" * 40)\n"
   ]
  }
 ],
 "metadata": {
  "kernelspec": {
   "display_name": "Python 3",
   "language": "python",
   "name": "python3"
  },
  "language_info": {
   "codemirror_mode": {
    "name": "ipython",
    "version": 3
   },
   "file_extension": ".py",
   "mimetype": "text/x-python",
   "name": "python",
   "nbconvert_exporter": "python",
   "pygments_lexer": "ipython3",
   "version": "3.11.3"
  }
 },
 "nbformat": 4,
 "nbformat_minor": 2
}
